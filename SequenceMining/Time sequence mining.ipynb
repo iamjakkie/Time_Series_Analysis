{
 "cells": [
  {
   "cell_type": "code",
   "execution_count": 1,
   "id": "e1849ddf",
   "metadata": {},
   "outputs": [],
   "source": [
    "import pandas as pd"
   ]
  },
  {
   "cell_type": "code",
   "execution_count": 3,
   "id": "baeb12ee",
   "metadata": {},
   "outputs": [],
   "source": [
    "btcusd = pd.read_csv(\"Bitstamp_BTCUSD_2021_minute.csv\")"
   ]
  },
  {
   "cell_type": "code",
   "execution_count": 4,
   "id": "3a126903",
   "metadata": {},
   "outputs": [
    {
     "data": {
      "text/html": [
       "<div>\n",
       "<style scoped>\n",
       "    .dataframe tbody tr th:only-of-type {\n",
       "        vertical-align: middle;\n",
       "    }\n",
       "\n",
       "    .dataframe tbody tr th {\n",
       "        vertical-align: top;\n",
       "    }\n",
       "\n",
       "    .dataframe thead th {\n",
       "        text-align: right;\n",
       "    }\n",
       "</style>\n",
       "<table border=\"1\" class=\"dataframe\">\n",
       "  <thead>\n",
       "    <tr style=\"text-align: right;\">\n",
       "      <th></th>\n",
       "      <th>unix</th>\n",
       "      <th>date</th>\n",
       "      <th>symbol</th>\n",
       "      <th>open</th>\n",
       "      <th>high</th>\n",
       "      <th>low</th>\n",
       "      <th>close</th>\n",
       "      <th>Volume BTC</th>\n",
       "      <th>Volume USD</th>\n",
       "    </tr>\n",
       "  </thead>\n",
       "  <tbody>\n",
       "    <tr>\n",
       "      <th>0</th>\n",
       "      <td>1642317240</td>\n",
       "      <td>2022-01-16 07:14:00</td>\n",
       "      <td>BTC/USD</td>\n",
       "      <td>43268.25</td>\n",
       "      <td>43268.25</td>\n",
       "      <td>43268.25</td>\n",
       "      <td>43268.25</td>\n",
       "      <td>0.000000</td>\n",
       "      <td>0.000000</td>\n",
       "    </tr>\n",
       "    <tr>\n",
       "      <th>1</th>\n",
       "      <td>1642317180</td>\n",
       "      <td>2022-01-16 07:13:00</td>\n",
       "      <td>BTC/USD</td>\n",
       "      <td>43260.92</td>\n",
       "      <td>43268.25</td>\n",
       "      <td>43260.92</td>\n",
       "      <td>43268.25</td>\n",
       "      <td>0.010469</td>\n",
       "      <td>452.964492</td>\n",
       "    </tr>\n",
       "    <tr>\n",
       "      <th>2</th>\n",
       "      <td>1642317120</td>\n",
       "      <td>2022-01-16 07:12:00</td>\n",
       "      <td>BTC/USD</td>\n",
       "      <td>43222.79</td>\n",
       "      <td>43222.79</td>\n",
       "      <td>43222.79</td>\n",
       "      <td>43222.79</td>\n",
       "      <td>0.000000</td>\n",
       "      <td>0.000000</td>\n",
       "    </tr>\n",
       "    <tr>\n",
       "      <th>3</th>\n",
       "      <td>1642317060</td>\n",
       "      <td>2022-01-16 07:11:00</td>\n",
       "      <td>BTC/USD</td>\n",
       "      <td>43218.46</td>\n",
       "      <td>43222.79</td>\n",
       "      <td>43218.46</td>\n",
       "      <td>43222.79</td>\n",
       "      <td>0.009740</td>\n",
       "      <td>420.989975</td>\n",
       "    </tr>\n",
       "    <tr>\n",
       "      <th>4</th>\n",
       "      <td>1642317000</td>\n",
       "      <td>2022-01-16 07:10:00</td>\n",
       "      <td>BTC/USD</td>\n",
       "      <td>43194.32</td>\n",
       "      <td>43202.96</td>\n",
       "      <td>43181.74</td>\n",
       "      <td>43202.96</td>\n",
       "      <td>0.906822</td>\n",
       "      <td>39177.407122</td>\n",
       "    </tr>\n",
       "  </tbody>\n",
       "</table>\n",
       "</div>"
      ],
      "text/plain": [
       "         unix                 date   symbol      open      high       low  \\\n",
       "0  1642317240  2022-01-16 07:14:00  BTC/USD  43268.25  43268.25  43268.25   \n",
       "1  1642317180  2022-01-16 07:13:00  BTC/USD  43260.92  43268.25  43260.92   \n",
       "2  1642317120  2022-01-16 07:12:00  BTC/USD  43222.79  43222.79  43222.79   \n",
       "3  1642317060  2022-01-16 07:11:00  BTC/USD  43218.46  43222.79  43218.46   \n",
       "4  1642317000  2022-01-16 07:10:00  BTC/USD  43194.32  43202.96  43181.74   \n",
       "\n",
       "      close  Volume BTC    Volume USD  \n",
       "0  43268.25    0.000000      0.000000  \n",
       "1  43268.25    0.010469    452.964492  \n",
       "2  43222.79    0.000000      0.000000  \n",
       "3  43222.79    0.009740    420.989975  \n",
       "4  43202.96    0.906822  39177.407122  "
      ]
     },
     "execution_count": 4,
     "metadata": {},
     "output_type": "execute_result"
    }
   ],
   "source": [
    "btcusd.head()"
   ]
  },
  {
   "cell_type": "code",
   "execution_count": 5,
   "id": "ea8479fd",
   "metadata": {},
   "outputs": [],
   "source": [
    "btcusd['price'] = (btcusd['open']+btcusd['close']+btcusd['low']+btcusd['high'])/4"
   ]
  },
  {
   "cell_type": "code",
   "execution_count": 6,
   "id": "aec0caf1",
   "metadata": {},
   "outputs": [
    {
     "data": {
      "text/html": [
       "<div>\n",
       "<style scoped>\n",
       "    .dataframe tbody tr th:only-of-type {\n",
       "        vertical-align: middle;\n",
       "    }\n",
       "\n",
       "    .dataframe tbody tr th {\n",
       "        vertical-align: top;\n",
       "    }\n",
       "\n",
       "    .dataframe thead th {\n",
       "        text-align: right;\n",
       "    }\n",
       "</style>\n",
       "<table border=\"1\" class=\"dataframe\">\n",
       "  <thead>\n",
       "    <tr style=\"text-align: right;\">\n",
       "      <th></th>\n",
       "      <th>unix</th>\n",
       "      <th>date</th>\n",
       "      <th>symbol</th>\n",
       "      <th>open</th>\n",
       "      <th>high</th>\n",
       "      <th>low</th>\n",
       "      <th>close</th>\n",
       "      <th>Volume BTC</th>\n",
       "      <th>Volume USD</th>\n",
       "      <th>price</th>\n",
       "    </tr>\n",
       "  </thead>\n",
       "  <tbody>\n",
       "    <tr>\n",
       "      <th>0</th>\n",
       "      <td>1642317240</td>\n",
       "      <td>2022-01-16 07:14:00</td>\n",
       "      <td>BTC/USD</td>\n",
       "      <td>43268.25</td>\n",
       "      <td>43268.25</td>\n",
       "      <td>43268.25</td>\n",
       "      <td>43268.25</td>\n",
       "      <td>0.000000</td>\n",
       "      <td>0.000000</td>\n",
       "      <td>43268.250</td>\n",
       "    </tr>\n",
       "    <tr>\n",
       "      <th>1</th>\n",
       "      <td>1642317180</td>\n",
       "      <td>2022-01-16 07:13:00</td>\n",
       "      <td>BTC/USD</td>\n",
       "      <td>43260.92</td>\n",
       "      <td>43268.25</td>\n",
       "      <td>43260.92</td>\n",
       "      <td>43268.25</td>\n",
       "      <td>0.010469</td>\n",
       "      <td>452.964492</td>\n",
       "      <td>43264.585</td>\n",
       "    </tr>\n",
       "    <tr>\n",
       "      <th>2</th>\n",
       "      <td>1642317120</td>\n",
       "      <td>2022-01-16 07:12:00</td>\n",
       "      <td>BTC/USD</td>\n",
       "      <td>43222.79</td>\n",
       "      <td>43222.79</td>\n",
       "      <td>43222.79</td>\n",
       "      <td>43222.79</td>\n",
       "      <td>0.000000</td>\n",
       "      <td>0.000000</td>\n",
       "      <td>43222.790</td>\n",
       "    </tr>\n",
       "    <tr>\n",
       "      <th>3</th>\n",
       "      <td>1642317060</td>\n",
       "      <td>2022-01-16 07:11:00</td>\n",
       "      <td>BTC/USD</td>\n",
       "      <td>43218.46</td>\n",
       "      <td>43222.79</td>\n",
       "      <td>43218.46</td>\n",
       "      <td>43222.79</td>\n",
       "      <td>0.009740</td>\n",
       "      <td>420.989975</td>\n",
       "      <td>43220.625</td>\n",
       "    </tr>\n",
       "    <tr>\n",
       "      <th>4</th>\n",
       "      <td>1642317000</td>\n",
       "      <td>2022-01-16 07:10:00</td>\n",
       "      <td>BTC/USD</td>\n",
       "      <td>43194.32</td>\n",
       "      <td>43202.96</td>\n",
       "      <td>43181.74</td>\n",
       "      <td>43202.96</td>\n",
       "      <td>0.906822</td>\n",
       "      <td>39177.407122</td>\n",
       "      <td>43195.495</td>\n",
       "    </tr>\n",
       "  </tbody>\n",
       "</table>\n",
       "</div>"
      ],
      "text/plain": [
       "         unix                 date   symbol      open      high       low  \\\n",
       "0  1642317240  2022-01-16 07:14:00  BTC/USD  43268.25  43268.25  43268.25   \n",
       "1  1642317180  2022-01-16 07:13:00  BTC/USD  43260.92  43268.25  43260.92   \n",
       "2  1642317120  2022-01-16 07:12:00  BTC/USD  43222.79  43222.79  43222.79   \n",
       "3  1642317060  2022-01-16 07:11:00  BTC/USD  43218.46  43222.79  43218.46   \n",
       "4  1642317000  2022-01-16 07:10:00  BTC/USD  43194.32  43202.96  43181.74   \n",
       "\n",
       "      close  Volume BTC    Volume USD      price  \n",
       "0  43268.25    0.000000      0.000000  43268.250  \n",
       "1  43268.25    0.010469    452.964492  43264.585  \n",
       "2  43222.79    0.000000      0.000000  43222.790  \n",
       "3  43222.79    0.009740    420.989975  43220.625  \n",
       "4  43202.96    0.906822  39177.407122  43195.495  "
      ]
     },
     "execution_count": 6,
     "metadata": {},
     "output_type": "execute_result"
    }
   ],
   "source": [
    "btcusd.head()"
   ]
  },
  {
   "cell_type": "code",
   "execution_count": 9,
   "id": "99d1de4b",
   "metadata": {},
   "outputs": [
    {
     "data": {
      "image/png": "[encoded data removed]",
      "text/plain": [
       "<Figure size 432x288 with 1 Axes>"
      ]
     },
     "metadata": {
      "needs_background": "light"
     },
     "output_type": "display_data"
    }
   ],
   "source": [
    "btcusd[['date','price']].plot();"
   ]
  },
  {
   "cell_type": "code",
   "execution_count": null,
   "id": "bda3ca7d",
   "metadata": {},
   "outputs": [],
   "source": [
    "def calculateEuclideanDistance(df):\n",
    "    df['EucDist'] = sqrt((df['unix']-df['unix_lag'])**2 + (df['price']-df['price_lag'])**2)"
   ]
  },
  {
   "cell_type": "code",
   "execution_count": null,
   "id": "1b4be2ae",
   "metadata": {},
   "outputs": [],
   "source": []
  },
  {
   "cell_type": "code",
   "execution_count": null,
   "id": "ab1c034f",
   "metadata": {},
   "outputs": [],
   "source": []
  },
  {
   "cell_type": "markdown",
   "id": "71105083",
   "metadata": {},
   "source": [
    "# Algorithm\n",
    "1. Break each sequence into a set of pieces of windows with length <em>w</em>\n",
    "2. Extract the features of the subsequence inside the window\n",
    "3. Map each sequence to a 'trail' in the feature space\n",
    "4. Divide the trail of each sequence into 'subtrails' and represent each of them with minimum bounding rectangle\n",
    "5. Use a multi-piece assembly algorithm to search for longer sequence matches\n",
    "6. Use Euclidean distance (watch out for outliers)\n",
    "\n",
    "![img](./algorithm.png)"
   ]
  },
  {
   "cell_type": "code",
   "execution_count": null,
   "id": "d4981200",
   "metadata": {},
   "outputs": [],
   "source": []
  },
  {
   "cell_type": "markdown",
   "id": "1a05e531",
   "metadata": {},
   "source": [
    "# SPADE - Sequential PAttern Discovery using Equivalent classes (Sequential Pattern Mining on Vertical data format)\n",
    "1. Identify frequent single elements\n",
    "2. Identify frequent two-element sequences\n",
    "3. Identify all remaining sequences of three elements or more"
   ]
  },
  {
   "cell_type": "code",
   "execution_count": null,
   "id": "b569ad64",
   "metadata": {},
   "outputs": [],
   "source": []
  },
  {
   "cell_type": "markdown",
   "id": "666e6e78",
   "metadata": {},
   "source": [
    "# GSP - Generalized Sequential Patterns\n",
    "1. Every item is a candidate of length01\n",
    "2. For each level do:\n",
    "    1. Scan dataset to collect support count for each candidate sequence\n",
    "    2. Generate candidate length-(k+1) sequences from length-k frequent sequences using Apriori\n",
    "3. Repeat until no frequent sequence or no candidate can be found\n"
   ]
  },
  {
   "cell_type": "code",
   "execution_count": null,
   "id": "9a3f9b4e",
   "metadata": {},
   "outputs": [],
   "source": []
  }
 ],
 "metadata": {
  "kernelspec": {
   "display_name": "Python 3",
   "language": "python",
   "name": "python3"
  },
  "language_info": {
   "codemirror_mode": {
    "name": "ipython",
    "version": 3
   },
   "file_extension": ".py",
   "mimetype": "text/x-python",
   "name": "python",
   "nbconvert_exporter": "python",
   "pygments_lexer": "ipython3",
   "version": "3.6.15"
  }
 },
 "nbformat": 4,
 "nbformat_minor": 5
}
